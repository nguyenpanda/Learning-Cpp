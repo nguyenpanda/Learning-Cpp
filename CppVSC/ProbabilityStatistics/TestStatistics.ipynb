{
 "cells": [
  {
   "cell_type": "code",
   "execution_count": 82,
   "metadata": {},
   "outputs": [],
   "source": [
    "import numpy as np \n",
    "import matplotlib.pyplot as plt\n",
    "import scipy.stats as stt"
   ]
  },
  {
   "cell_type": "code",
   "execution_count": 99,
   "metadata": {},
   "outputs": [],
   "source": [
    "simulation = 2\n",
    "x = 1\n",
    "\n",
    "f = np.random.uniform(-5, 5, simulation)\n",
    "g = np.random.uniform(-5, 5, simulation)\n",
    "X = f + g\n",
    "\n",
    "X_mean = f.mean() + g.mean()\n",
    "X_var = X.var()"
   ]
  },
  {
   "cell_type": "code",
   "execution_count": 100,
   "metadata": {},
   "outputs": [
    {
     "data": {
      "image/png": "[encoded data removed]",
      "text/plain": [
       "<Figure size 640x480 with 1 Axes>"
      ]
     },
     "metadata": {},
     "output_type": "display_data"
    }
   ],
   "source": [
    "plt.hist(X, bins=100, density=True, color='g', label='Sample Data')\n",
    "plt.axvline(x, color='r', linestyle='--', linewidth=1, label=f'x_max = {x}')\n",
    "plt.axvline(-x, color='r', linestyle='--', linewidth=1, label=f'x_min= {-x}')\n",
    "plt.legend()\n",
    "plt.show()"
   ]
  },
  {
   "cell_type": "code",
   "execution_count": 101,
   "metadata": {},
   "outputs": [
    {
     "name": "stdout",
     "output_type": "stream",
     "text": [
      "-2.970129312685266\n",
      "5.815917978659999\n"
     ]
    }
   ],
   "source": [
    "print(X_mean)\n",
    "print(X_var)"
   ]
  },
  {
   "cell_type": "code",
   "execution_count": 102,
   "metadata": {},
   "outputs": [
    {
     "name": "stdout",
     "output_type": "stream",
     "text": [
      "11.631835957319998\n"
     ]
    }
   ],
   "source": [
    "print(sum((n - X.mean())**2 for n in X) / (len(X) - 1))"
   ]
  },
  {
   "cell_type": "code",
   "execution_count": 106,
   "metadata": {},
   "outputs": [
    {
     "name": "stdout",
     "output_type": "stream",
     "text": [
      "[-0.91826368  0.96858064]\n",
      "[-4.46348707 -1.52708851]\n",
      "[-5.38175075 -0.55850787]\n",
      "0.0\n",
      "0.8900453784154189\n"
     ]
    }
   ],
   "source": [
    "print(f)\n",
    "print(g)\n",
    "print(X)\n",
    "\n",
    "print(X.mean() - (f.mean() + g.mean()))\n",
    "print(f.var())"
   ]
  },
  {
   "cell_type": "code",
   "execution_count": null,
   "metadata": {},
   "outputs": [],
   "source": []
  }
 ],
 "metadata": {
  "kernelspec": {
   "display_name": "Python 3",
   "language": "python",
   "name": "python3"
  },
  "language_info": {
   "codemirror_mode": {
    "name": "ipython",
    "version": 3
   },
   "file_extension": ".py",
   "mimetype": "text/x-python",
   "name": "python",
   "nbconvert_exporter": "python",
   "pygments_lexer": "ipython3",
   "version": "3.12.0"
  }
 },
 "nbformat": 4,
 "nbformat_minor": 2
}
