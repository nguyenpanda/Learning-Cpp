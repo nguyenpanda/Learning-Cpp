{
 "cells": [
  {
   "cell_type": "code",
   "execution_count": 35,
   "metadata": {},
   "outputs": [],
   "source": [
    "import numpy as np\n",
    "import matplotlib.pyplot as plt"
   ]
  },
  {
   "cell_type": "code",
   "execution_count": 36,
   "metadata": {},
   "outputs": [
    {
     "name": "stdout",
     "output_type": "stream",
     "text": [
      "Epoch: 0, Loss: 1.9315520203172232\n",
      "Epoch: 1000, Loss: 0.0\n",
      "Epoch: 2000, Loss: 0.0\n",
      "Epoch: 3000, Loss: 0.0\n",
      "Epoch: 4000, Loss: 0.0\n",
      "Epoch: 5000, Loss: 0.0\n",
      "Epoch: 6000, Loss: 0.0\n",
      "Epoch: 7000, Loss: 0.0\n",
      "Epoch: 8000, Loss: 0.0\n",
      "Epoch: 9000, Loss: 0.0\n"
     ]
    },
    {
     "ename": "ValueError",
     "evalue": "too many values to unpack (expected 2)",
     "output_type": "error",
     "traceback": [
      "\u001b[0;31m---------------------------------------------------------------------------\u001b[0m",
      "\u001b[0;31mValueError\u001b[0m                                Traceback (most recent call last)",
      "Cell \u001b[0;32mIn[36], line 95\u001b[0m\n\u001b[1;32m     92\u001b[0m epochs \u001b[38;5;241m=\u001b[39m \u001b[38;5;241m10000\u001b[39m\n\u001b[1;32m     93\u001b[0m learning_rate \u001b[38;5;241m=\u001b[39m \u001b[38;5;241m0.1\u001b[39m\n\u001b[0;32m---> 95\u001b[0m weights_input_hidden, weights_hidden_output \u001b[38;5;241m=\u001b[39m train_neural_network(X_normalized, y, hidden_size, epochs, learning_rate)\n",
      "\u001b[0;31mValueError\u001b[0m: too many values to unpack (expected 2)"
     ]
    }
   ],
   "source": [
    "def relu(x):\n",
    "    return np.maximum(0, x)\n",
    "\n",
    "def relu_derivative(x):\n",
    "    return np.where(x > 0, 1, 0)\n",
    "\n",
    "def initialize_weights(input_size, hidden_size, output_size):\n",
    "    np.random.seed(42)\n",
    "    weights_input_hidden = np.random.uniform(size=(input_size, hidden_size))\n",
    "    weights_hidden_output = np.random.uniform(size=(hidden_size, output_size))\n",
    "    bias_hidden = np.zeros((1, hidden_size))\n",
    "    bias_output = np.zeros((1, output_size))\n",
    "    return weights_input_hidden, weights_hidden_output, bias_hidden, bias_output\n",
    "\n",
    "def forward_propagation(X, weights_input_hidden, weights_hidden_output, bias_hidden, bias_output):\n",
    "    hidden_layer_input = np.dot(X, weights_input_hidden) + bias_hidden\n",
    "    hidden_layer_output = relu(hidden_layer_input)\n",
    "    \n",
    "    output_layer_input = np.dot(hidden_layer_output, weights_hidden_output) + bias_output\n",
    "    predicted_output = relu(output_layer_input)\n",
    "    \n",
    "    return hidden_layer_input, hidden_layer_output, predicted_output\n",
    "\n",
    "def backward_propagation(X, y, hidden_layer_input, hidden_layer_output, predicted_output,\n",
    "                         weights_hidden_output, bias_hidden, bias_output):\n",
    "    output_error = y - predicted_output\n",
    "    output_delta = output_error * relu_derivative(predicted_output)\n",
    "    \n",
    "    hidden_layer_error = output_delta.dot(weights_hidden_output.T)\n",
    "    hidden_layer_delta = hidden_layer_error * relu_derivative(hidden_layer_output)\n",
    "    \n",
    "    return output_delta, hidden_layer_delta\n",
    "\n",
    "def update_weights(X, hidden_layer_output, output_delta, hidden_layer_delta, \n",
    "                   weights_input_hidden, weights_hidden_output, bias_hidden, bias_output, learning_rate):\n",
    "    weights_hidden_output += hidden_layer_output.T.dot(output_delta) * learning_rate\n",
    "    weights_input_hidden += X.T.dot(hidden_layer_delta) * learning_rate\n",
    "    bias_output += np.sum(output_delta, axis=0, keepdims=True) * learning_rate\n",
    "    bias_hidden += np.sum(hidden_layer_delta, axis=0, keepdims=True) * learning_rate\n",
    "\n",
    "\n",
    "def train_neural_network_with_validation(X_train, y_train, X_val, y_val, hidden_size, epochs, learning_rate):\n",
    "    input_size = X_train.shape[1]\n",
    "    output_size = y_train.shape[1]\n",
    "    \n",
    "    weights_input_hidden, weights_hidden_output, bias_hidden, bias_output = initialize_weights(input_size, hidden_size, output_size)\n",
    "    \n",
    "    for epoch in range(epochs):\n",
    "        # Training phase\n",
    "        hidden_layer_input, hidden_layer_output, predicted_output = forward_propagation(X_train, weights_input_hidden, weights_hidden_output, bias_hidden, bias_output)\n",
    "        output_delta, hidden_layer_delta = backward_propagation(X_train, y_train, hidden_layer_input, hidden_layer_output, predicted_output, weights_hidden_output, bias_hidden, bias_output)\n",
    "        update_weights(X_train, hidden_layer_output, output_delta, hidden_layer_delta, weights_input_hidden, weights_hidden_output, bias_hidden, bias_output, learning_rate)\n",
    "        \n",
    "        # Validation phase\n",
    "        _, _, val_output = forward_propagation(X_val, weights_input_hidden, weights_hidden_output, bias_hidden, bias_output)\n",
    "        val_loss = np.mean(np.abs(y_val - val_output))\n",
    "        \n",
    "        if epoch % 1000 == 0:\n",
    "            train_loss = np.mean(np.abs(output_delta))\n",
    "            print(f\"Epoch: {epoch}, Training Loss: {train_loss}, Validation Loss: {val_loss}\")\n",
    "\n",
    "    return weights_input_hidden, weights_hidden_output, bias_hidden, bias_output\n",
    "\n",
    "\n",
    "def predict(X, weights_input_hidden, weights_hidden_output, bias_hidden, bias_output):\n",
    "    _, _, predicted_output = forward_propagation(X, weights_input_hidden, weights_hidden_output, bias_hidden, bias_output)\n",
    "    return predicted_output\n",
    "\n",
    "# Define input data and output labels\n",
    "data = np.array([(0.0502179742253,0.0742491491850), \n",
    "                 (0.8290606534771,0.2403834050136), \n",
    "                 (1.9906392014367,0.9795697537151), \n",
    "                 (3.1733373593591,3.0704111400422),\n",
    "                 (3.8965780427014,4.5027741153818), \n",
    "                 (4.5215257741621,5.3200134565227), \n",
    "                 (5.3868380177231,5.3921228101528), \n",
    "                 (6.0358222003939,4.5027741153818), \n",
    "                 (6.4925147733844,2.2193112504291),\n",
    "                 (7.7664466875159,0.5607961169372),\n",
    "                 (8.9923056992273,0.4406138608871),\n",
    "                 (10.1460553573086,0.344468056047),\n",
    "                 (10.9453538257065,0.2615030149765),])\n",
    "\n",
    "X = data[:, 0].reshape(-1, 1)  # Input column\n",
    "y = data[:, 1].reshape(-1, 1)  # Output column\n",
    "\n",
    "# Normalize input data\n",
    "X_normalized = X / np.max(X)\n",
    "\n",
    "# Train the neural network\n",
    "hidden_size = 4\n",
    "epochs = 10000\n",
    "learning_rate = 0.1\n",
    "\n",
    "weights_input_hidden, weights_hidden_output = train_neural_network(X_normalized, y, hidden_size, epochs, learning_rate)\n"
   ]
  },
  {
   "cell_type": "code",
   "execution_count": 28,
   "metadata": {},
   "outputs": [
    {
     "data": {
      "image/png": "[encoded data removed]",
      "text/plain": [
       "<Figure size 640x480 with 1 Axes>"
      ]
     },
     "metadata": {},
     "output_type": "display_data"
    }
   ],
   "source": [
    "X_new = np.array([[n for n in range(10)]]).T\n",
    "X_new_normalized = X_new / np.max(X)\n",
    "\n",
    "predicted_output = predict(X_new_normalized, weights_input_hidden, weights_hidden_output)\n",
    "\n",
    "# Plot the original data and the predicted values\n",
    "plt.scatter(X, y, label='Original Data')\n",
    "plt.scatter(X_new[:, 0], predicted_output, color='r', label='Predicted Output')\n",
    "plt.xlabel('X')\n",
    "plt.ylabel('Y')\n",
    "plt.legend()\n",
    "plt.show()"
   ]
  },
  {
   "cell_type": "code",
   "execution_count": 26,
   "metadata": {},
   "outputs": [
    {
     "data": {
      "image/png": "[encoded data removed]",
      "text/plain": [
       "<Figure size 640x480 with 1 Axes>"
      ]
     },
     "metadata": {},
     "output_type": "display_data"
    }
   ],
   "source": [
    "X_new = np.array([[6]])  # Example new input\n",
    "X_new_normalized = X_new / np.max(X)\n",
    "predicted_output = predict(X_new_normalized, weights_input_hidden, weights_hidden_output)\n",
    "\n",
    "# print(\"Predicted Output:\", predicted_output)\n",
    "plt.scatter(X, y)\n",
    "plt.scatter(X_new, predicted_output, color='r')\n",
    "plt.show()"
   ]
  },
  {
   "cell_type": "code",
   "execution_count": null,
   "metadata": {},
   "outputs": [],
   "source": []
  }
 ],
 "metadata": {
  "kernelspec": {
   "display_name": "Python 3",
   "language": "python",
   "name": "python3"
  },
  "language_info": {
   "codemirror_mode": {
    "name": "ipython",
    "version": 3
   },
   "file_extension": ".py",
   "mimetype": "text/x-python",
   "name": "python",
   "nbconvert_exporter": "python",
   "pygments_lexer": "ipython3",
   "version": "3.12.0"
  }
 },
 "nbformat": 4,
 "nbformat_minor": 2
}
